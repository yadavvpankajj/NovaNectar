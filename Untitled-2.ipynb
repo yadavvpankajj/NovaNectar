{
 "cells": [
  {
   "cell_type": "code",
   "execution_count": 10,
   "metadata": {},
   "outputs": [
    {
     "name": "stderr",
     "output_type": "stream",
     "text": [
      "C:\\Users\\mryad\\AppData\\Local\\Temp\\ipykernel_1492\\3595987600.py:5: DtypeWarning: Columns (25,51) have mixed types. Specify dtype option on import or set low_memory=False.\n",
      "  data = pd.read_csv(file_path)\n"
     ]
    },
    {
     "name": "stdout",
     "output_type": "stream",
     "text": [
      "         Date      GameID  Drive  qtr  down   time  TimeUnder  TimeSecs  \\\n",
      "0  2009-09-10  2009091000      1    1   NaN  15:00         15    3600.0   \n",
      "1  2009-09-10  2009091000      1    1   1.0  14:53         15    3593.0   \n",
      "2  2009-09-10  2009091000      1    1   2.0  14:16         15    3556.0   \n",
      "3  2009-09-10  2009091000      1    1   3.0  13:35         14    3515.0   \n",
      "4  2009-09-10  2009091000      1    1   4.0  13:27         14    3507.0   \n",
      "\n",
      "   PlayTimeDiff SideofField  ...    yacEPA  Home_WP_pre  Away_WP_pre  \\\n",
      "0           0.0         TEN  ...       NaN     0.485675     0.514325   \n",
      "1           7.0         PIT  ...  1.146076     0.546433     0.453567   \n",
      "2          37.0         PIT  ...       NaN     0.551088     0.448912   \n",
      "3          41.0         PIT  ... -5.031425     0.510793     0.489207   \n",
      "4           8.0         PIT  ...       NaN     0.461217     0.538783   \n",
      "\n",
      "   Home_WP_post  Away_WP_post  Win_Prob       WPA    airWPA    yacWPA  Season  \n",
      "0      0.546433      0.453567  0.485675  0.060758       NaN       NaN    2009  \n",
      "1      0.551088      0.448912  0.546433  0.004655 -0.032244  0.036899    2009  \n",
      "2      0.510793      0.489207  0.551088 -0.040295       NaN       NaN    2009  \n",
      "3      0.461217      0.538783  0.510793 -0.049576  0.106663 -0.156239    2009  \n",
      "4      0.558929      0.441071  0.461217  0.097712       NaN       NaN    2009  \n",
      "\n",
      "[5 rows x 102 columns]\n",
      "<class 'pandas.core.frame.DataFrame'>\n",
      "RangeIndex: 362447 entries, 0 to 362446\n",
      "Columns: 102 entries, Date to Season\n",
      "dtypes: float64(33), int64(31), object(38)\n",
      "memory usage: 282.1+ MB\n",
      "None\n"
     ]
    }
   ],
   "source": [
    "import pandas as pd\n",
    "\n",
    "# Load the dataset\n",
    "file_path = \"C:\\\\Users\\\\mryad\\\\Downloads\\\\NFL Play by Play 2009-2016 (v3).csv\"\n",
    "data = pd.read_csv(file_path)\n",
    "\n",
    "# Display the first few rows of the dataset to understand its structure\n",
    "print(data.head())\n",
    "print(data.info())\n"
   ]
  },
  {
   "cell_type": "code",
   "execution_count": 11,
   "metadata": {},
   "outputs": [
    {
     "name": "stdout",
     "output_type": "stream",
     "text": [
      "Columns with missing values: ['down', 'time', 'TimeSecs', 'PlayTimeDiff', 'SideofField', 'yrdln', 'yrdline100', 'GoalToGo', 'FirstDown', 'posteam', 'DefensiveTeam', 'desc', 'ExPointResult', 'TwoPointConv', 'DefTwoPoint', 'PuntResult', 'Passer', 'Passer_ID', 'PassOutcome', 'PassLength', 'PassLocation', 'Interceptor', 'Rusher', 'Rusher_ID', 'RunLocation', 'RunGap', 'Receiver', 'Receiver_ID', 'ReturnResult', 'Returner', 'BlockingPlayer', 'Tackler1', 'Tackler2', 'FieldGoalResult', 'FieldGoalDistance', 'RecFumbTeam', 'RecFumbPlayer', 'ChalReplayResult', 'PenalizedTeam', 'PenaltyType', 'PenalizedPlayer', 'PosTeamScore', 'DefTeamScore', 'ScoreDiff', 'AbsScoreDiff', 'Timeout_Team', 'No_Score_Prob', 'Opp_Field_Goal_Prob', 'Opp_Safety_Prob', 'Opp_Touchdown_Prob', 'Field_Goal_Prob', 'Safety_Prob', 'Touchdown_Prob', 'ExpPts', 'EPA', 'airEPA', 'yacEPA', 'Home_WP_pre', 'Away_WP_pre', 'Home_WP_post', 'Away_WP_post', 'Win_Prob', 'WPA', 'airWPA', 'yacWPA']\n",
      "<class 'pandas.core.frame.DataFrame'>\n",
      "RangeIndex: 362447 entries, 0 to 362446\n",
      "Columns: 102 entries, Date to Season\n",
      "dtypes: float64(33), int64(31), object(38)\n",
      "memory usage: 282.1+ MB\n",
      "None\n"
     ]
    }
   ],
   "source": [
    "from sklearn.impute import SimpleImputer\n",
    "\n",
    "# Identify columns with missing values\n",
    "cols_with_missing_values = data.columns[data.isnull().any()].tolist()\n",
    "print(\"Columns with missing values:\", cols_with_missing_values)\n",
    "\n",
    "# Separate numeric and categorical columns with missing values\n",
    "numeric_cols_with_missing = data[cols_with_missing_values].select_dtypes(include=['float64', 'int64']).columns\n",
    "categorical_cols_with_missing = data[cols_with_missing_values].select_dtypes(include=['object']).columns\n",
    "\n",
    "# Impute missing values for numeric columns using the mean\n",
    "imputer_numeric = SimpleImputer(strategy='mean')\n",
    "data[numeric_cols_with_missing] = imputer_numeric.fit_transform(data[numeric_cols_with_missing])\n",
    "\n",
    "# Impute missing values for categorical columns using the most frequent value\n",
    "imputer_categorical = SimpleImputer(strategy='most_frequent')\n",
    "data[categorical_cols_with_missing] = imputer_categorical.fit_transform(data[categorical_cols_with_missing])\n",
    "\n",
    "print(data.info())  # Verify no missing values\n"
   ]
  },
  {
   "cell_type": "code",
   "execution_count": 12,
   "metadata": {},
   "outputs": [
    {
     "name": "stdout",
     "output_type": "stream",
     "text": [
      "Data shape after removing outliers: (113468, 102)\n"
     ]
    }
   ],
   "source": [
    "# Function to remove outliers using the IQR method\n",
    "def remove_outliers_iqr(df, column):\n",
    "    Q1 = df[column].quantile(0.25)\n",
    "    Q3 = df[column].quantile(0.75)\n",
    "    IQR = Q3 - Q1\n",
    "    lower_bound = Q1 - 1.5 * IQR\n",
    "    upper_bound = Q3 + 1.5 * IQR\n",
    "    return df[(df[column] >= lower_bound) & (df[column] <= upper_bound)]\n",
    "\n",
    "# Apply outlier removal to numeric columns\n",
    "for col in numeric_cols_with_missing:\n",
    "    data = remove_outliers_iqr(data, col)\n",
    "\n",
    "print(f\"Data shape after removing outliers: {data.shape}\")\n"
   ]
  },
  {
   "cell_type": "code",
   "execution_count": 13,
   "metadata": {},
   "outputs": [
    {
     "name": "stdout",
     "output_type": "stream",
     "text": [
      "          Date      GameID  Drive  qtr  down   time  TimeUnder  TimeSecs  \\\n",
      "2   2009-09-10  2009091000      1    1   2.0  14:16         15    3556.0   \n",
      "11  2009-09-10  2009091000      3    1   1.0  10:21         11    3321.0   \n",
      "17  2009-09-10  2009091000      4    1   1.0  07:24          8    3144.0   \n",
      "21  2009-09-10  2009091000      5    1   1.0  06:44          7    3104.0   \n",
      "22  2009-09-10  2009091000      5    1   2.0  06:09          7    3069.0   \n",
      "\n",
      "    PlayTimeDiff SideofField  ...    yacEPA  Home_WP_pre  Away_WP_pre  \\\n",
      "2           37.0         pit  ... -0.386522     0.551088     0.448912   \n",
      "11          27.0         ten  ... -0.386522     0.615159     0.384841   \n",
      "17          33.0         pit  ... -0.386522     0.368797     0.631203   \n",
      "21           4.0         pit  ... -0.386522     0.528421     0.471579   \n",
      "22          35.0         pit  ... -0.386522     0.511082     0.488918   \n",
      "\n",
      "    Home_WP_post  Away_WP_post  Win_Prob       WPA    airWPA    yacWPA  Season  \n",
      "2       0.510793      0.489207  0.551088 -0.040295  0.015209 -0.010492    2009  \n",
      "11      0.597822      0.402178  0.615159 -0.017337  0.015209 -0.010492    2009  \n",
      "17      0.376194      0.623806  0.631203 -0.007397  0.015209 -0.010492    2009  \n",
      "21      0.511082      0.488918  0.528421 -0.017339  0.015209 -0.010492    2009  \n",
      "22      0.491891      0.508109  0.511082 -0.019192  0.015209 -0.010492    2009  \n",
      "\n",
      "[5 rows x 102 columns]\n"
     ]
    }
   ],
   "source": [
    "# Standardizing text data to lowercase\n",
    "text_cols = data.select_dtypes(include=['object']).columns\n",
    "for col in text_cols:\n",
    "    data[col] = data[col].str.lower()\n",
    "\n",
    "# Verifying changes\n",
    "print(data.head())\n"
   ]
  },
  {
   "cell_type": "code",
   "execution_count": 14,
   "metadata": {},
   "outputs": [
    {
     "name": "stdout",
     "output_type": "stream",
     "text": [
      "<class 'pandas.core.frame.DataFrame'>\n",
      "Index: 113468 entries, 2 to 362422\n",
      "Columns: 102 entries, Date to Season\n",
      "dtypes: float64(33), int64(31), object(38)\n",
      "memory usage: 89.2+ MB\n",
      "None\n"
     ]
    }
   ],
   "source": [
    "# Convert date columns to datetime format if any\n",
    "date_cols = ['game_date']  # Example date column name; adjust as per actual data\n",
    "\n",
    "for col in date_cols:\n",
    "    if col in data.columns:\n",
    "        data[col] = pd.to_datetime(data[col])\n",
    "\n",
    "print(data.info())  # Verify data types\n"
   ]
  },
  {
   "cell_type": "code",
   "execution_count": 15,
   "metadata": {},
   "outputs": [
    {
     "name": "stdout",
     "output_type": "stream",
     "text": [
      "Valid team names: ['ny jets', 'ny giants', 'sf 49ers', 'patriots', 'eagles', 'cowboys', 'packers']\n"
     ]
    }
   ],
   "source": [
    "# Extract unique valid team names from the 'valid_team_names' column\n",
    "if 'valid_team_names' in data.columns:\n",
    "    valid_team_names = data['valid_team_names'].dropna().unique().tolist()\n",
    "else:\n",
    "    # For demonstration, we'll create a mock list of valid team names from another column\n",
    "    valid_team_names = ['ny jets', 'ny giants', 'sf 49ers', 'patriots', 'eagles', 'cowboys', 'packers']\n",
    "\n",
    "print(\"Valid team names:\", valid_team_names)\n",
    "\n"
   ]
  },
  {
   "cell_type": "code",
   "execution_count": 16,
   "metadata": {},
   "outputs": [
    {
     "name": "stdout",
     "output_type": "stream",
     "text": [
      "['unknown']\n"
     ]
    }
   ],
   "source": [
    "# Function to correct team names by checking against the valid names list\n",
    "def correct_team_name(name, valid_names):\n",
    "    if name in valid_names:\n",
    "        return name\n",
    "    else:\n",
    "        return 'unknown'  # Placeholder for invalid team names\n",
    "\n",
    "# Apply correction to the 'team' column\n",
    "if 'desc' in data.columns:\n",
    "    data['desc'] = data['desc'].str.lower()  # Ensure team names are in lowercase\n",
    "    data['desc'] = data['desc'].apply(lambda x: correct_team_name(x, valid_team_names))\n",
    "\n",
    "print(data['desc'].unique())  # Verify changes\n"
   ]
  },
  {
   "cell_type": "code",
   "execution_count": 17,
   "metadata": {},
   "outputs": [
    {
     "name": "stdout",
     "output_type": "stream",
     "text": [
      "All corrections validated successfully.\n"
     ]
    }
   ],
   "source": [
    "# Validate team name corrections\n",
    "if 'team' in data.columns:\n",
    "    assert all(data['team'].isin(valid_team_names + ['unknown'])), \"There are still some incorrect team names.\"\n",
    "\n",
    "print(\"All corrections validated successfully.\")\n"
   ]
  },
  {
   "cell_type": "code",
   "execution_count": 18,
   "metadata": {},
   "outputs": [
    {
     "name": "stdout",
     "output_type": "stream",
     "text": [
      "Data shape after removing duplicates: (113468, 102)\n"
     ]
    }
   ],
   "source": [
    "# Remove duplicates\n",
    "data.drop_duplicates(inplace=True)\n",
    "print(f\"Data shape after removing duplicates: {data.shape}\")\n"
   ]
  },
  {
   "cell_type": "code",
   "execution_count": 19,
   "metadata": {},
   "outputs": [
    {
     "name": "stdout",
     "output_type": "stream",
     "text": [
      "Skipping log transformation for TimeUnder due to non-positive values.\n",
      "Skipping log transformation for TimeSecs due to non-positive values.\n",
      "Skipping log transformation for PlayTimeDiff due to non-positive values.\n",
      "Skipping log transformation for ydstogo due to non-positive values.\n",
      "Skipping log transformation for ydsnet due to non-positive values.\n",
      "Skipping log transformation for GoalToGo due to non-positive values.\n",
      "Skipping log transformation for FirstDown due to non-positive values.\n",
      "Skipping log transformation for Yards.Gained due to non-positive values.\n",
      "Skipping log transformation for sp due to non-positive values.\n",
      "Skipping log transformation for Touchdown due to non-positive values.\n",
      "Skipping log transformation for Safety due to non-positive values.\n",
      "Skipping log transformation for Onsidekick due to non-positive values.\n",
      "Skipping log transformation for PassAttempt due to non-positive values.\n",
      "Skipping log transformation for AirYards due to non-positive values.\n",
      "Skipping log transformation for YardsAfterCatch due to non-positive values.\n",
      "Skipping log transformation for QBHit due to non-positive values.\n",
      "Skipping log transformation for InterceptionThrown due to non-positive values.\n",
      "Skipping log transformation for RushAttempt due to non-positive values.\n",
      "Skipping log transformation for Reception due to non-positive values.\n",
      "Skipping log transformation for Fumble due to non-positive values.\n",
      "Skipping log transformation for Sack due to non-positive values.\n",
      "Skipping log transformation for Challenge.Replay due to non-positive values.\n",
      "Skipping log transformation for Accepted.Penalty due to non-positive values.\n",
      "Skipping log transformation for Penalty.Yards due to non-positive values.\n",
      "Skipping log transformation for PosTeamScore due to non-positive values.\n",
      "Skipping log transformation for DefTeamScore due to non-positive values.\n",
      "Skipping log transformation for ScoreDiff due to non-positive values.\n",
      "Skipping log transformation for AbsScoreDiff due to non-positive values.\n",
      "Skipping log transformation for Timeout_Indicator due to non-positive values.\n",
      "Skipping log transformation for posteam_timeouts_pre due to non-positive values.\n",
      "Skipping log transformation for HomeTimeouts_Remaining_Pre due to non-positive values.\n",
      "Skipping log transformation for AwayTimeouts_Remaining_Pre due to non-positive values.\n",
      "Skipping log transformation for HomeTimeouts_Remaining_Post due to non-positive values.\n",
      "Skipping log transformation for AwayTimeouts_Remaining_Post due to non-positive values.\n",
      "Skipping log transformation for ExPoint_Prob due to non-positive values.\n",
      "Skipping log transformation for TwoPoint_Prob due to non-positive values.\n",
      "Skipping log transformation for ExpPts due to non-positive values.\n",
      "Skipping log transformation for EPA due to non-positive values.\n",
      "Skipping log transformation for yacEPA due to non-positive values.\n",
      "Skipping log transformation for Away_WP_post due to non-positive values.\n",
      "Skipping log transformation for WPA due to non-positive values.\n",
      "Skipping log transformation for yacWPA due to non-positive values.\n",
      "          Date     GameID     Drive  qtr      down   time  TimeUnder  \\\n",
      "2   2009-09-10  21.420948  0.000000  0.0  0.693147  14:16         15   \n",
      "11  2009-09-10  21.420948  1.098612  0.0  0.000000  10:21         11   \n",
      "17  2009-09-10  21.420948  1.386294  0.0  0.000000  07:24          8   \n",
      "21  2009-09-10  21.420948  1.609438  0.0  0.000000  06:44          7   \n",
      "22  2009-09-10  21.420948  1.609438  0.0  0.693147  06:09          7   \n",
      "\n",
      "    TimeSecs  PlayTimeDiff SideofField  ...    yacEPA  Home_WP_pre  \\\n",
      "2     3556.0          37.0         pit  ... -0.386522    -0.595861   \n",
      "11    3321.0          27.0         ten  ... -0.386522    -0.485875   \n",
      "17    3144.0          33.0         pit  ... -0.386522    -0.997509   \n",
      "21    3104.0           4.0         pit  ... -0.386522    -0.637862   \n",
      "22    3069.0          35.0         pit  ... -0.386522    -0.671225   \n",
      "\n",
      "    Away_WP_pre  Home_WP_post  Away_WP_post  Win_Prob       WPA    airWPA  \\\n",
      "2     -0.800928     -0.671791      0.489207 -0.595861 -0.040295 -4.185874   \n",
      "11    -0.954924     -0.514462      0.402178 -0.485875 -0.017337 -4.185874   \n",
      "17    -0.460128     -0.977650      0.623806 -0.460128 -0.007397 -4.185874   \n",
      "21    -0.751669     -0.671225      0.488918 -0.637862 -0.017339 -4.185874   \n",
      "22    -0.715561     -0.709499      0.508109 -0.671225 -0.019192 -4.185874   \n",
      "\n",
      "      yacWPA    Season  \n",
      "2  -0.010492  7.605392  \n",
      "11 -0.010492  7.605392  \n",
      "17 -0.010492  7.605392  \n",
      "21 -0.010492  7.605392  \n",
      "22 -0.010492  7.605392  \n",
      "\n",
      "[5 rows x 102 columns]\n"
     ]
    }
   ],
   "source": [
    "import numpy as np\n",
    "\n",
    "# Identify numeric columns\n",
    "numeric_cols = data.select_dtypes(include=['float64', 'int64']).columns\n",
    "\n",
    "# Apply log transformation to numeric columns (if values are all positive)\n",
    "for col in numeric_cols:\n",
    "    if (data[col] > 0).all():  # Ensure all values are positive\n",
    "        data[col] = np.log(data[col])\n",
    "    else:\n",
    "        print(f\"Skipping log transformation for {col} due to non-positive values.\")\n",
    "\n",
    "# Display the transformed data\n",
    "print(data.head())"
   ]
  },
  {
   "cell_type": "code",
   "execution_count": 20,
   "metadata": {},
   "outputs": [],
   "source": [
    "from sklearn.preprocessing import StandardScaler, MinMaxScaler\n",
    "\n",
    "# Normalization\n",
    "scaler = MinMaxScaler()\n",
    "data[numeric_cols] = scaler.fit_transform(data[numeric_cols])\n",
    "\n",
    "# Standardization\n",
    "scaler = StandardScaler()\n",
    "data[numeric_cols] = scaler.fit_transform(data[numeric_cols])\n"
   ]
  },
  {
   "cell_type": "code",
   "execution_count": 28,
   "metadata": {},
   "outputs": [
    {
     "name": "stdout",
     "output_type": "stream",
     "text": [
      "        down       qtr  down_quarter\n",
      "2   0.486654 -1.412391     -0.687345\n",
      "11 -1.037581 -1.412391      1.465471\n",
      "17 -1.037581 -1.412391      1.465471\n",
      "21 -1.037581 -1.412391      1.465471\n",
      "22  0.486654 -1.412391     -0.687345\n"
     ]
    }
   ],
   "source": [
    "# Create interaction terms between 'down' and 'quarter'\n",
    "if 'down' in data.columns and 'qtr' in data.columns:\n",
    "    data['down_quarter'] = data['down'] * data['qtr']\n",
    "\n",
    "# Display the first few rows to verify the new feature\n",
    "print(data[['down', 'qtr', 'down_quarter']].head())\n"
   ]
  },
  {
   "cell_type": "code",
   "execution_count": 40,
   "metadata": {},
   "outputs": [],
   "source": [
    "# Bin 'yards_gained' into discrete intervals\n",
    "if 'Yards_Gained' in data.columns:\n",
    "    data['Yards_Gained_bin'] = pd.cut(data['Yards_Gained'], bins=5, labels=False)\n",
    "\n",
    "# Display the first few rows to verify the new feature\n",
    "\n"
   ]
  },
  {
   "cell_type": "code",
   "execution_count": 50,
   "metadata": {},
   "outputs": [
    {
     "name": "stdout",
     "output_type": "stream",
     "text": [
      "          Date    GameID     Drive       qtr      down   time  TimeUnder  \\\n",
      "2   2009-09-10 -1.556263 -2.388231 -1.412391  0.486654  14:16   1.456378   \n",
      "11  2009-09-10 -1.556263 -1.136314 -1.412391 -1.037581  10:21   0.509626   \n",
      "17  2009-09-10 -1.556263 -0.808488 -1.412391 -1.037581  07:24  -0.200438   \n",
      "21  2009-09-10 -1.556263 -0.554206 -1.412391 -1.037581  06:44  -0.437127   \n",
      "22  2009-09-10 -1.556263 -0.554206 -1.412391  0.486654  06:09  -0.437127   \n",
      "\n",
      "    TimeSecs  PlayTimeDiff SideofField  ...  posteam_oak  posteam_phi  \\\n",
      "2   1.563471      0.949166         pit  ...        False        False   \n",
      "11  1.336296      0.350884         ten  ...        False        False   \n",
      "17  1.165191      0.709854         pit  ...        False        False   \n",
      "21  1.126523     -1.025164         pit  ...        False        False   \n",
      "22  1.092688      0.829510         pit  ...        False        False   \n",
      "\n",
      "    posteam_pit  posteam_sd  posteam_sea  posteam_sf posteam_stl posteam_tb  \\\n",
      "2          True       False        False       False       False      False   \n",
      "11         True       False        False       False       False      False   \n",
      "17        False       False        False       False       False      False   \n",
      "21         True       False        False       False       False      False   \n",
      "22         True       False        False       False       False      False   \n",
      "\n",
      "    posteam_ten  posteam_was  \n",
      "2         False        False  \n",
      "11        False        False  \n",
      "17         True        False  \n",
      "21        False        False  \n",
      "22        False        False  \n",
      "\n",
      "[5 rows x 140 columns]\n"
     ]
    }
   ],
   "source": [
    "from sklearn.preprocessing import LabelEncoder\n",
    "\n",
    "# Initialize the label encoder\n",
    "label_encoder = LabelEncoder()\n",
    "\n",
    "# List of categorical columns to encode\n",
    "categorical_columns = ['play_type', 'posteam']\n",
    "\n",
    "# Apply label encoding to the categorical columns\n",
    "for column in categorical_columns:\n",
    "    if column in data.columns:\n",
    "        data[column] = label_encoder.fit_transform(data[column])\n",
    "\n",
    "# Display the first few rows to verify the new features\n",
    "print(data.head())\n",
    "\n",
    "\n"
   ]
  },
  {
   "cell_type": "code",
   "execution_count": 51,
   "metadata": {},
   "outputs": [
    {
     "name": "stdout",
     "output_type": "stream",
     "text": [
      "          Date    GameID     Drive       qtr      down   time  TimeUnder  \\\n",
      "2   2009-09-10 -1.556263 -2.388231 -1.412391  0.486654  14:16   1.456378   \n",
      "11  2009-09-10 -1.556263 -1.136314 -1.412391 -1.037581  10:21   0.509626   \n",
      "17  2009-09-10 -1.556263 -0.808488 -1.412391 -1.037581  07:24  -0.200438   \n",
      "21  2009-09-10 -1.556263 -0.554206 -1.412391 -1.037581  06:44  -0.437127   \n",
      "22  2009-09-10 -1.556263 -0.554206 -1.412391  0.486654  06:09  -0.437127   \n",
      "\n",
      "    TimeSecs  PlayTimeDiff SideofField  ...  posteam_oak  posteam_phi  \\\n",
      "2   1.563471      0.949166         pit  ...        False        False   \n",
      "11  1.336296      0.350884         ten  ...        False        False   \n",
      "17  1.165191      0.709854         pit  ...        False        False   \n",
      "21  1.126523     -1.025164         pit  ...        False        False   \n",
      "22  1.092688      0.829510         pit  ...        False        False   \n",
      "\n",
      "    posteam_pit  posteam_sd  posteam_sea  posteam_sf posteam_stl posteam_tb  \\\n",
      "2          True       False        False       False       False      False   \n",
      "11         True       False        False       False       False      False   \n",
      "17        False       False        False       False       False      False   \n",
      "21         True       False        False       False       False      False   \n",
      "22         True       False        False       False       False      False   \n",
      "\n",
      "    posteam_ten  posteam_was  \n",
      "2         False        False  \n",
      "11        False        False  \n",
      "17         True        False  \n",
      "21        False        False  \n",
      "22        False        False  \n",
      "\n",
      "[5 rows x 140 columns]\n"
     ]
    }
   ],
   "source": [
    "# Aggregate features at the game level (e.g., average yards gained per game)\n",
    "if 'game_id' in data.columns and 'yards_gained' in data.columns:\n",
    "    game_stats = data.groupby('game_id')['yards_gained'].agg(['mean', 'sum', 'max', 'min']).reset_index()\n",
    "    game_stats.columns = ['game_id', 'avg_yards_gained', 'total_yards_gained', 'max_yards_gained', 'min_yards_gained']\n",
    "\n",
    "    # Merge the aggregated features back to the original dataframe\n",
    "    data = data.merge(game_stats, on='game_id', how='left')\n",
    "\n",
    "# Display the first few rows to verify the new features\n",
    "print(data.head())\n"
   ]
  },
  {
   "cell_type": "code",
   "execution_count": 61,
   "metadata": {},
   "outputs": [
    {
     "name": "stdout",
     "output_type": "stream",
     "text": [
      "          Date    GameID     Drive       qtr      down   time  TimeUnder  \\\n",
      "2   2009-09-10 -1.556263 -2.388231 -1.412391  0.486654  14:16   1.456378   \n",
      "11  2009-09-10 -1.556263 -1.136314 -1.412391 -1.037581  10:21   0.509626   \n",
      "17  2009-09-10 -1.556263 -0.808488 -1.412391 -1.037581  07:24  -0.200438   \n",
      "21  2009-09-10 -1.556263 -0.554206 -1.412391 -1.037581  06:44  -0.437127   \n",
      "22  2009-09-10 -1.556263 -0.554206 -1.412391  0.486654  06:09  -0.437127   \n",
      "\n",
      "    TimeSecs  PlayTimeDiff SideofField  ...  posteam_oak  posteam_phi  \\\n",
      "2   1.563471      0.949166         pit  ...        False        False   \n",
      "11  1.336296      0.350884         ten  ...        False        False   \n",
      "17  1.165191      0.709854         pit  ...        False        False   \n",
      "21  1.126523     -1.025164         pit  ...        False        False   \n",
      "22  1.092688      0.829510         pit  ...        False        False   \n",
      "\n",
      "    posteam_pit  posteam_sd  posteam_sea  posteam_sf posteam_stl posteam_tb  \\\n",
      "2          True       False        False       False       False      False   \n",
      "11         True       False        False       False       False      False   \n",
      "17        False       False        False       False       False      False   \n",
      "21         True       False        False       False       False      False   \n",
      "22         True       False        False       False       False      False   \n",
      "\n",
      "    posteam_ten  posteam_was  \n",
      "2         False        False  \n",
      "11        False        False  \n",
      "17         True        False  \n",
      "21        False        False  \n",
      "22        False        False  \n",
      "\n",
      "[5 rows x 140 columns]\n"
     ]
    }
   ],
   "source": [
    "import numpy as np\n",
    "\n",
    "# Apply log transformation to skewed numeric features\n",
    "numeric_features = ['Yards_Gained', 'avg_yards_gained', 'total_yards_gained', 'max_yards_gained', 'min_yards_gained']\n",
    "\n",
    "print(data.head())\n",
    "\n"
   ]
  },
  {
   "cell_type": "code",
   "execution_count": 63,
   "metadata": {},
   "outputs": [
    {
     "name": "stdout",
     "output_type": "stream",
     "text": [
      "          Date    GameID     Drive       qtr      down   time  TimeUnder  \\\n",
      "2   2009-09-10 -1.556263 -2.388231 -1.412391  0.486654  14:16   1.456378   \n",
      "11  2009-09-10 -1.556263 -1.136314 -1.412391 -1.037581  10:21   0.509626   \n",
      "17  2009-09-10 -1.556263 -0.808488 -1.412391 -1.037581  07:24  -0.200438   \n",
      "21  2009-09-10 -1.556263 -0.554206 -1.412391 -1.037581  06:44  -0.437127   \n",
      "22  2009-09-10 -1.556263 -0.554206 -1.412391  0.486654  06:09  -0.437127   \n",
      "\n",
      "    TimeSecs  PlayTimeDiff SideofField  ...  posteam_oak  posteam_phi  \\\n",
      "2   1.563471      0.949166         pit  ...        False        False   \n",
      "11  1.336296      0.350884         ten  ...        False        False   \n",
      "17  1.165191      0.709854         pit  ...        False        False   \n",
      "21  1.126523     -1.025164         pit  ...        False        False   \n",
      "22  1.092688      0.829510         pit  ...        False        False   \n",
      "\n",
      "    posteam_pit  posteam_sd  posteam_sea  posteam_sf posteam_stl posteam_tb  \\\n",
      "2          True       False        False       False       False      False   \n",
      "11         True       False        False       False       False      False   \n",
      "17        False       False        False       False       False      False   \n",
      "21         True       False        False       False       False      False   \n",
      "22         True       False        False       False       False      False   \n",
      "\n",
      "    posteam_ten  posteam_was  \n",
      "2         False        False  \n",
      "11        False        False  \n",
      "17         True        False  \n",
      "21        False        False  \n",
      "22        False        False  \n",
      "\n",
      "[5 rows x 140 columns]\n"
     ]
    }
   ],
   "source": [
    "from sklearn.preprocessing import RobustScaler\n",
    "\n",
    "# Initialize RobustScaler\n",
    "scaler_robust = RobustScaler()\n",
    "\n",
    "\n",
    "print(data.head())\n"
   ]
  },
  {
   "cell_type": "code",
   "execution_count": 89,
   "metadata": {},
   "outputs": [
    {
     "name": "stdout",
     "output_type": "stream",
     "text": [
      "          Date    GameID     Drive       qtr      down   time  TimeUnder  \\\n",
      "2   2009-09-10 -1.556263 -2.388231 -1.412391  0.486654  14:16   1.456378   \n",
      "11  2009-09-10 -1.556263 -1.136314 -1.412391 -1.037581  10:21   0.509626   \n",
      "17  2009-09-10 -1.556263 -0.808488 -1.412391 -1.037581  07:24  -0.200438   \n",
      "21  2009-09-10 -1.556263 -0.554206 -1.412391 -1.037581  06:44  -0.437127   \n",
      "22  2009-09-10 -1.556263 -0.554206 -1.412391  0.486654  06:09  -0.437127   \n",
      "\n",
      "    TimeSecs  PlayTimeDiff SideofField  ...  posteam_oak  posteam_phi  \\\n",
      "2   1.563471      0.949166         pit  ...        False        False   \n",
      "11  1.336296      0.350884         ten  ...        False        False   \n",
      "17  1.165191      0.709854         pit  ...        False        False   \n",
      "21  1.126523     -1.025164         pit  ...        False        False   \n",
      "22  1.092688      0.829510         pit  ...        False        False   \n",
      "\n",
      "    posteam_pit  posteam_sd  posteam_sea  posteam_sf posteam_stl posteam_tb  \\\n",
      "2          True       False        False       False       False      False   \n",
      "11         True       False        False       False       False      False   \n",
      "17        False       False        False       False       False      False   \n",
      "21         True       False        False       False       False      False   \n",
      "22         True       False        False       False       False      False   \n",
      "\n",
      "    posteam_ten  posteam_was  \n",
      "2         False        False  \n",
      "11        False        False  \n",
      "17         True        False  \n",
      "21        False        False  \n",
      "22        False        False  \n",
      "\n",
      "[5 rows x 140 columns]\n"
     ]
    }
   ],
   "source": [
    "from sklearn.preprocessing import MinMaxScaler\n",
    "\n",
    "# Initialize MinMaxScaler\n",
    "scaler_minmax = MinMaxScaler()\n",
    "\n",
    "# Select numeric features for scaling\n",
    "numeric_features = ['No_Score_Prob', 'Opp_Field_Goal_Prob', 'Opp_Safety_Prob', 'Opp_Touchdown_Prob', 'Field_Goal_Prob']\n",
    "# Apply Min-Max Scaling\n",
    "data_minmax_scaled = data.copy()\n",
    "data_minmax_scaled[numeric_features] = scaler_minmax.fit_transform(data[numeric_features])\n",
    "\n",
    "\n",
    "print(data_minmax_scaled.head())\n",
    "\n"
   ]
  },
  {
   "cell_type": "code",
   "execution_count": 90,
   "metadata": {},
   "outputs": [
    {
     "name": "stdout",
     "output_type": "stream",
     "text": [
      "          Date    GameID     Drive       qtr      down   time  TimeUnder  \\\n",
      "2   2009-09-10 -1.556263 -2.388231 -1.412391  0.486654  14:16   1.456378   \n",
      "11  2009-09-10 -1.556263 -1.136314 -1.412391 -1.037581  10:21   0.509626   \n",
      "17  2009-09-10 -1.556263 -0.808488 -1.412391 -1.037581  07:24  -0.200438   \n",
      "21  2009-09-10 -1.556263 -0.554206 -1.412391 -1.037581  06:44  -0.437127   \n",
      "22  2009-09-10 -1.556263 -0.554206 -1.412391  0.486654  06:09  -0.437127   \n",
      "\n",
      "    TimeSecs  PlayTimeDiff SideofField  ...  posteam_oak  posteam_phi  \\\n",
      "2   1.563471      0.949166         pit  ...        False        False   \n",
      "11  1.336296      0.350884         ten  ...        False        False   \n",
      "17  1.165191      0.709854         pit  ...        False        False   \n",
      "21  1.126523     -1.025164         pit  ...        False        False   \n",
      "22  1.092688      0.829510         pit  ...        False        False   \n",
      "\n",
      "    posteam_pit  posteam_sd  posteam_sea  posteam_sf posteam_stl posteam_tb  \\\n",
      "2          True       False        False       False       False      False   \n",
      "11         True       False        False       False       False      False   \n",
      "17        False       False        False       False       False      False   \n",
      "21         True       False        False       False       False      False   \n",
      "22         True       False        False       False       False      False   \n",
      "\n",
      "    posteam_ten  posteam_was  \n",
      "2         False        False  \n",
      "11        False        False  \n",
      "17         True        False  \n",
      "21        False        False  \n",
      "22        False        False  \n",
      "\n",
      "[5 rows x 140 columns]\n"
     ]
    }
   ],
   "source": [
    "from sklearn.preprocessing import StandardScaler\n",
    "\n",
    "# Initialize StandardScaler\n",
    "scaler_standard = StandardScaler()\n",
    "\n",
    "# Apply Standard Scaling\n",
    "data_standard_scaled = data.copy()\n",
    "data_standard_scaled[numeric_features] = scaler_standard.fit_transform(data[numeric_features])\n",
    "\n",
    "print(data_standard_scaled.head())\n"
   ]
  },
  {
   "cell_type": "code",
   "execution_count": 91,
   "metadata": {},
   "outputs": [
    {
     "data": {
      "image/png": "[encoded data removed]",
      "text/plain": [
       "<Figure size 1000x600 with 1 Axes>"
      ]
     },
     "metadata": {},
     "output_type": "display_data"
    }
   ],
   "source": [
    "import matplotlib.pyplot as plt\n",
    "import seaborn as sns\n",
    "\n",
    "# Violin plot for 'TimeUnder'\n",
    "plt.figure(figsize=(10, 6))\n",
    "sns.violinplot(x='TimeUnder', data=data)\n",
    "plt.title('Violin Plot of TimeUnder')\n",
    "plt.xlabel('TimeUnder')\n",
    "plt.show()\n",
    "\n"
   ]
  },
  {
   "cell_type": "code",
   "execution_count": 95,
   "metadata": {},
   "outputs": [
    {
     "data": {
      "image/png": "[encoded data removed]",
      "text/plain": [
       "<Figure size 1000x600 with 1 Axes>"
      ]
     },
     "metadata": {},
     "output_type": "display_data"
    }
   ],
   "source": [
    "# Box plot for 'TimeUnderd'\n",
    "plt.figure(figsize=(10, 6))\n",
    "sns.boxplot(x='TimeUnder', data=data)\n",
    "plt.title('Box Plot of TimeUnder')\n",
    "plt.xlabel('TimeUnder')\n",
    "plt.show()"
   ]
  },
  {
   "cell_type": "code",
   "execution_count": 98,
   "metadata": {},
   "outputs": [
    {
     "name": "stdout",
     "output_type": "stream",
     "text": [
      "Date            object\n",
      "GameID         float64\n",
      "Drive          float64\n",
      "qtr            float64\n",
      "down           float64\n",
      "                ...   \n",
      "posteam_sf        bool\n",
      "posteam_stl       bool\n",
      "posteam_tb        bool\n",
      "posteam_ten       bool\n",
      "posteam_was       bool\n",
      "Length: 140, dtype: object\n"
     ]
    }
   ],
   "source": [
    "# Verify data types\n",
    "print(data.dtypes)\n",
    "\n",
    "# Check for any remaining inconsistencies or errors\n"
   ]
  },
  {
   "cell_type": "code",
   "execution_count": 103,
   "metadata": {},
   "outputs": [
    {
     "name": "stdout",
     "output_type": "stream",
     "text": [
      "              Date    GameID     Drive       qtr      down   time  TimeUnder  \\\n",
      "2       2009-09-10 -1.556263 -2.388231 -1.412391  0.486654  14:16   1.456378   \n",
      "11      2009-09-10 -1.556263 -1.136314 -1.412391 -1.037581  10:21   0.509626   \n",
      "17      2009-09-10 -1.556263 -0.808488 -1.412391 -1.037581  07:24  -0.200438   \n",
      "21      2009-09-10 -1.556263 -0.554206 -1.412391 -1.037581  06:44  -0.437127   \n",
      "22      2009-09-10 -1.556263 -0.554206 -1.412391  0.486654  06:09  -0.437127   \n",
      "...            ...       ...       ...       ...       ...    ...        ...   \n",
      "362412  2017-01-01  1.906181  0.840340  1.201528 -1.037581  05:41  -0.673815   \n",
      "362415  2017-01-01  1.906181  0.840340  1.201528  1.378274  05:26  -0.673815   \n",
      "362417  2017-01-01  1.906181  0.840340  1.201528 -1.037581  04:35  -0.910503   \n",
      "362418  2017-01-01  1.906181  0.840340  1.201528  0.486654  03:50  -1.147191   \n",
      "362422  2017-01-01  1.906181  0.840340  1.201528  0.486654  02:59  -1.383879   \n",
      "\n",
      "        TimeSecs  PlayTimeDiff SideofField  ...  posteam_oak  posteam_phi  \\\n",
      "2       1.563471      0.949166         pit  ...        False        False   \n",
      "11      1.336296      0.350884         ten  ...        False        False   \n",
      "17      1.165191      0.709854         pit  ...        False        False   \n",
      "21      1.126523     -1.025164         pit  ...        False        False   \n",
      "22      1.092688      0.829510         pit  ...        False        False   \n",
      "...          ...           ...         ...  ...          ...          ...   \n",
      "362412 -1.544467      0.829510          gb  ...        False        False   \n",
      "362415 -1.558968     -1.025164         det  ...        False        False   \n",
      "362417 -1.608269      1.487620         det  ...        False        False   \n",
      "362418 -1.651771      1.427792         det  ...        False        False   \n",
      "362422 -1.701073     -1.264477         det  ...        False        False   \n",
      "\n",
      "        posteam_pit  posteam_sd  posteam_sea  posteam_sf posteam_stl  \\\n",
      "2              True       False        False       False       False   \n",
      "11             True       False        False       False       False   \n",
      "17            False       False        False       False       False   \n",
      "21             True       False        False       False       False   \n",
      "22             True       False        False       False       False   \n",
      "...             ...         ...          ...         ...         ...   \n",
      "362412        False       False        False       False       False   \n",
      "362415        False       False        False       False       False   \n",
      "362417        False       False        False       False       False   \n",
      "362418        False       False        False       False       False   \n",
      "362422        False       False        False       False       False   \n",
      "\n",
      "       posteam_tb  posteam_ten  posteam_was  \n",
      "2           False        False        False  \n",
      "11          False        False        False  \n",
      "17          False         True        False  \n",
      "21          False        False        False  \n",
      "22          False        False        False  \n",
      "...           ...          ...          ...  \n",
      "362412      False        False        False  \n",
      "362415      False        False        False  \n",
      "362417      False        False        False  \n",
      "362418      False        False        False  \n",
      "362422      False        False        False  \n",
      "\n",
      "[113468 rows x 140 columns]\n"
     ]
    }
   ],
   "source": [
    "print(data)"
   ]
  }
 ],
 "metadata": {
  "kernelspec": {
   "display_name": "Python 3",
   "language": "python",
   "name": "python3"
  },
  "language_info": {
   "codemirror_mode": {
    "name": "ipython",
    "version": 3
   },
   "file_extension": ".py",
   "mimetype": "text/x-python",
   "name": "python",
   "nbconvert_exporter": "python",
   "pygments_lexer": "ipython3",
   "version": "3.11.9"
  }
 },
 "nbformat": 4,
 "nbformat_minor": 2
}
